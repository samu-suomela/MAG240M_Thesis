{
 "metadata": {
  "language_info": {
   "codemirror_mode": {
    "name": "ipython",
    "version": 3
   },
   "file_extension": ".py",
   "mimetype": "text/x-python",
   "name": "python",
   "nbconvert_exporter": "python",
   "pygments_lexer": "ipython3",
   "version": "3.7.6"
  },
  "orig_nbformat": 4,
  "kernelspec": {
   "name": "python3",
   "display_name": "Python 3.7.6 64-bit"
  },
  "interpreter": {
   "hash": "dca0ade3e726a953b501b15e8e990130d2b7799f14cfd9f4271676035ebe5511"
  }
 },
 "nbformat": 4,
 "nbformat_minor": 2,
 "cells": [
  {
   "cell_type": "code",
   "execution_count": 9,
   "source": [
    "from ogb.lsc import MAG240MDataset\n",
    "import numpy as np"
   ],
   "outputs": [],
   "metadata": {}
  },
  {
   "cell_type": "code",
   "execution_count": 10,
   "source": [
    "dataset = MAG240MDataset(root = \"/Volumes/Seagate Backup Plus Drive/Gradu/\")"
   ],
   "outputs": [],
   "metadata": {}
  },
  {
   "cell_type": "code",
   "execution_count": null,
   "source": [
    "# Basic properties\n",
    "\n",
    "print(dataset.num_papers) # number of paper nodes\n",
    "print(dataset.num_authors) # number of author nodes\n",
    "print(dataset.num_institutions) # number of institution nodes\n",
    "print(dataset.num_paper_features) # dimensionality of paper features\n",
    "print(dataset.num_classes) # number of subject area classes\n",
    "\n",
    "# get i-th paper feature\n",
    "i = 1234\n",
    "print(dataset.paper_feat[i]) # only i-th data is loaded into memory\n",
    "\n",
    "# get the feature matrix storing features of papers in idx_arr\n",
    "idx_arr = np.array([1,10,100,1000,10000])\n",
    "print(dataset.paper_feat[idx_arr]) # only the 5 data is loaded into memory"
   ],
   "outputs": [],
   "metadata": {}
  },
  {
   "cell_type": "code",
   "execution_count": 4,
   "source": [
    "'''\n",
    "edge_index is numpy.ndarray of shape (2, num_edges).\n",
    "- first row: indices of source nodes (indexed by source node types)\n",
    "- second row: indices of target nodes (indexed by target node types)\n",
    "In other words, i-th edge connects from edge_index[0,i] to edge_index[1,i].\n",
    "'''\n",
    "\n",
    "edge_index_writes = dataset.edge_index('author', 'paper')\n",
    "edge_index_cites = dataset.edge_index('paper', 'paper')\n",
    "edge_index_affiliated = dataset.edge_index('author', 'institution')"
   ],
   "outputs": [],
   "metadata": {}
  },
  {
   "cell_type": "markdown",
   "source": [
    "To create the test dataset to run on a regular computer, we begin by selecting an author and retrieving the papers they have contributed in. Next, we get the indexes of those papers, and retrieve both their citations and their authors. This cycle can be continued, and in the end we have an array of authors from which we can retrieve their affiliations. Then, we have an array of authors, an array of papers, three edgelists containing citations, writes and affiliations. We can then retrieve the required paper features from the array of papers and write the result into a file. \n",
    "\n",
    "We also need to select an article that actually has a label, since there are many unlabeled articles in the raw data."
   ],
   "metadata": {}
  },
  {
   "cell_type": "code",
   "execution_count": 5,
   "source": [
    "print(np.where(dataset.paper_label==1))\n",
    "print(edge_index_writes[:,edge_index_writes[1]==85]) # retrieve the author of paper 85 and use that as a starting point"
   ],
   "outputs": [
    {
     "output_type": "stream",
     "name": "stdout",
     "text": [
      "(array([       85,      9052,      9166, ..., 121422531, 121494455,\n",
      "       121634237]),)\n",
      "[[1080565 1794309 7130696 7130697]\n",
      " [     85      85      85      85]]\n"
     ]
    }
   ],
   "metadata": {}
  },
  {
   "cell_type": "code",
   "execution_count": 6,
   "source": [
    "author_array = edge_index_writes[0,edge_index_writes[0]==1080565]\n",
    "paper_array = edge_index_writes[1,edge_index_writes[0]==1080565]\n",
    "mask_cites = np.in1d(edge_index_cites[0],paper_array)\n",
    "cites_array = edge_index_cites[:,mask_cites]\n",
    "\n",
    "n = 2\n",
    "\n",
    "for i in range(n):\n",
    "    paper_array = np.concatenate((paper_array, np.unique(cites_array[1])))\n",
    "    mask_author = np.in1d(edge_index_writes[1],paper_array)\n",
    "    author_array = edge_index_writes[:,mask_author][0]\n",
    "    mask_cites = np.in1d(edge_index_cites[0],paper_array)\n",
    "    cites_array = edge_index_cites[:,mask_cites]\n",
    "    print(paper_array)\n",
    "\n",
    "mask_cites = np.in1d(edge_index_cites[0],paper_array)\n",
    "cites_array = edge_index_cites[:,mask_cites]\n",
    "paper_array = np.concatenate((paper_array, np.unique(cites_array[1])))\n",
    "mask_author = np.in1d(edge_index_writes[1],paper_array)\n",
    "author_array = edge_index_writes[:,mask_author][0]\n",
    "print(paper_array)\n"
   ],
   "outputs": [
    {
     "output_type": "stream",
     "name": "stdout",
     "text": [
      "[       84        85    490533    490534   2982342   5551868   6283888\n",
      "   8414954  10013767  13658892  15101186  15101187  19923490  20409947\n",
      "  25059751  27893775  31536464  32435004  35532256  44857869  47376659\n",
      "  52622445  59323907  60990971  63550306  65585135  67201622  67201623\n",
      "  72101074  72236376  73785647  74463918  77349996  77435098  77435099\n",
      "  78366648  84608505  84961866  93779604  96702807  97170758  98191348\n",
      " 100807308 100807309 102523993 104040469 105199562 105199563 105735949\n",
      " 108384525 114772218 115473513 119862569        84     58195    490533\n",
      "    615919    721392    965536   1123747   1705430   1771075   1779237\n",
      "   1997869   2091814   2101297   2212608   2319301   2460081   2576935\n",
      "   2714957   2771297   2779606   2977353   3033593   3107800   3810226\n",
      "   3828613   3975206   4502727   4565529   4827877   4992264   5007440\n",
      "   5065999   5397189   5423909   5563439   5691667   5995636   5997796\n",
      "   6246812   6682996   6794499   7386267   8439253   8558880   8611882\n",
      "   8779356   8887351   8913996   9139096   9494738   9699325  10230203\n",
      "  10576015  10908150  10967201  11039334  11303052  11714172  12494893\n",
      "  12743923  12946000  13758077  14134513  14390375  14456323  15403641\n",
      "  15426539  15613184  15802120  16066749  16478218  16678685  16839431\n",
      "  17435095  17452140  17741834  17808453  18062518  18567358  19022741\n",
      "  19499719  19809298  21008857  21027161  21340576  21993311  22877805\n",
      "  23126096  23414754  23541451  23981439  24036266  24074086  25059751\n",
      "  26485815  26487078  27001363  27207037  27609265  27643859  27707669\n",
      "  27810760  28022462  28625490  28872190  28933209  29543772  29591634\n",
      "  30076477  30184567  30251599  30698048  30758533  30798093  30892583\n",
      "  31045750  31264181  31397434  31481966  31997570  32003277  32061770\n",
      "  32133900  32435004  32674920  33349465  33586761  33866881  33889538\n",
      "  34233322  34293884  34301521  34426140  34933297  34933387  35245347\n",
      "  35375995  35913961  36059952  36278173  36512293  36772277  37531786\n",
      "  38116667  38462197  38534280  38785867  39058700  39505611  39580623\n",
      "  40339752  40462260  40578604  40703540  40857355  40864886  41393743\n",
      "  41569460  41609185  41645432  41685336  42123501  42389028  43718430\n",
      "  44148201  44677614  44801981  44857869  45004436  45100615  45356399\n",
      "  45456426  45607799  45692456  45800218  46610416  46781009  47300843\n",
      "  48380107  48417915  48803447  48804796  49160731  49300853  49513614\n",
      "  50072714  50359526  50822146  51059841  51271183  51276315  51633224\n",
      "  51953005  52130530  52610227  52614499  52706348  52876437  53486173\n",
      "  53873800  53896419  54110764  54279546  54923317  55686907  56517826\n",
      "  56568269  56741531  56818693  57309372  57661748  58293405  58359571\n",
      "  58856508  59298084  59644410  59845715  59861922  60158380  60262349\n",
      "  60697440  61197907  61560021  61873589  62227786  62237400  62734570\n",
      "  62871762  63521544  63550306  63676730  63782875  64178807  64286905\n",
      "  64331016  64511263  64666047  64689321  64732795  65271532  65286903\n",
      "  65326188  65648448  65684304  65727890  65817229  66461015  66585098\n",
      "  66666647  67201623  68932098  69094265  69489005  69633280  70168113\n",
      "  70349032  70484806  70660060  70681004  70949171  71306483  71525686\n",
      "  71836418  72212978  72575274  72992864  73903638  73961752  74228136\n",
      "  74557764  74706940  74996657  75138734  76020350  76736487  76898686\n",
      "  77318947  77346562  77435099  77447313  78002638  78638075  78959091\n",
      "  79057085  79261775  79362073  79508572  79675814  79995550  80021953\n",
      "  80101387  80276779  80452797  81003108  81190084  81365398  81649102\n",
      "  81753049  81845320  82068896  82092655  82482028  82559499  82644126\n",
      "  82876999  82887806  83143857  83401205  83452093  84028386  84045078\n",
      "  84211693  84874363  84890715  85010377  85495320  85933715  86057671\n",
      "  86109010  86158663  86600219  86644805  86797842  86826405  86903748\n",
      "  88372477  88941260  89028814  89380769  89835985  89837947  89888555\n",
      "  90203848  90275624  90287012  90485229  90818614  90831006  90964338\n",
      "  91234418  91734757  92027542  92208387  92485465  92563370  92612379\n",
      "  93117718  93515144  93669210  94263326  94380480  94980143  96176782\n",
      "  96305991  96702807  96864340  97025448  97749410  97905775  98152536\n",
      "  98230420  98425621  98473740  98717772  99113034  99447209  99470831\n",
      "  99570482  99612254  99684063  99830688 100180558 100295574 100499213\n",
      " 100745510 100885154 101040238 101113404 101978335 102526582 102563969\n",
      " 102705213 102883556 103195546 103310466 103516632 104525738 104527412\n",
      " 104978621 105271607 105735949 105827044 105976419 106373736 106897100\n",
      " 107255516 107483947 107746922 108118655 108270781 109018152 109278154\n",
      " 109750877 110168188 111072914 111255149 111308090 111935135 112561844\n",
      " 112601542 112896698 113340440 114067391 114190061 114420101 114449225\n",
      " 114550073 114648383 114772218 114958016 115269870 115447488 115473513\n",
      " 115769676 115991618 116316537 116807557 117130366 117190728 117285561\n",
      " 117664199 117825208 118098453 118127056 118176163 118199041 118219614\n",
      " 118327724 118347799 118436622 118532543 119072796 119650768 120129931\n",
      " 120530709 120619730 120742818 121156360 121748774]\n",
      "[       84        85    490533 ... 121707152 121712380 121748774]\n",
      "[       84        85    490533 ... 121748774 121751405 121751464]\n"
     ]
    }
   ],
   "metadata": {}
  },
  {
   "cell_type": "code",
   "execution_count": 7,
   "source": [
    "paper_array_test = np.unique(paper_array)\n",
    "author_array_test = np.unique(author_array)"
   ],
   "outputs": [],
   "metadata": {}
  },
  {
   "cell_type": "code",
   "execution_count": 8,
   "source": [
    "mask_affiliations = np.in1d(edge_index_affiliated[0],author_array_test)\n",
    "edgelist_affiliations_test = edge_index_affiliated[:,mask_affiliations]\n",
    "edgelist_affiliations_test"
   ],
   "outputs": [
    {
     "output_type": "execute_result",
     "data": {
      "text/plain": [
       "array([[       99,        99,        99, ..., 121914087, 122130702,\n",
       "        122233377],\n",
       "       [      447,      1248,      2652, ...,       112,       163,\n",
       "              329]])"
      ]
     },
     "metadata": {},
     "execution_count": 8
    }
   ],
   "metadata": {}
  },
  {
   "cell_type": "code",
   "execution_count": 8,
   "source": [
    "mask_affiliations = np.in1d(edge_index_affiliated[0],author_array_test)\n",
    "edgelist_affiliations_test = edge_index_affiliated[:,mask_affiliations]\n",
    "edgelist_affiliations_test"
   ],
   "outputs": [
    {
     "output_type": "display_data",
     "data": {
      "text/plain": [
       "array([[       99,        99,        99, ..., 121914087, 122130702,\n",
       "        122233377],\n",
       "       [      447,      1248,      2652, ...,       112,       163,\n",
       "              329]])"
      ]
     },
     "metadata": {}
    }
   ],
   "metadata": {}
  },
  {
   "cell_type": "code",
   "execution_count": 9,
   "source": [
    "mask_writes = np.in1d(edge_index_writes[0],author_array_test)\n",
    "edgelist_writes_test = edge_index_writes[:,mask_writes]\n",
    "edgelist_writes_test\n"
   ],
   "outputs": [
    {
     "output_type": "execute_result",
     "data": {
      "text/plain": [
       "array([[       99,        99,        99, ..., 122233377, 122319849,\n",
       "        122332293],\n",
       "       [   383346,    505333,    972726, ...,  41748765, 107011542,\n",
       "         90104736]])"
      ]
     },
     "metadata": {},
     "execution_count": 9
    }
   ],
   "metadata": {}
  },
  {
   "cell_type": "code",
   "execution_count": 10,
   "source": [
    "edgelist_cites_test = cites_array\n",
    "edgelist_cites_test"
   ],
   "outputs": [
    {
     "output_type": "execute_result",
     "data": {
      "text/plain": [
       "array([[       84,        84,        84, ..., 121712380, 121712380,\n",
       "        121712380],\n",
       "       [  2576935,  61873589,  90818614, ..., 114514237, 115059441,\n",
       "        119900450]])"
      ]
     },
     "metadata": {},
     "execution_count": 10
    }
   ],
   "metadata": {}
  },
  {
   "cell_type": "code",
   "execution_count": 11,
   "source": [
    "feats_array_test = dataset.paper_feat[paper_array_test]\n",
    "paper_label_test = dataset.paper_label[paper_array_test]"
   ],
   "outputs": [],
   "metadata": {}
  },
  {
   "cell_type": "code",
   "execution_count": 12,
   "source": [
    "print(author_array_test.shape)\n",
    "print(paper_array_test.shape)\n",
    "print(edgelist_writes_test.shape)\n",
    "print(edgelist_cites_test.shape)\n",
    "print(edgelist_affiliations_test.shape)\n",
    "print(feats_array_test.shape)\n",
    "print(paper_label_test.shape)\n"
   ],
   "outputs": [
    {
     "output_type": "stream",
     "name": "stdout",
     "text": [
      "(332318,)\n",
      "(180241,)\n",
      "(2, 17845198)\n",
      "(2, 316992)\n",
      "(2, 606196)\n",
      "(180241, 768)\n",
      "(180241,)\n"
     ]
    }
   ],
   "metadata": {}
  },
  {
   "cell_type": "code",
   "execution_count": 13,
   "source": [
    "np.save('test_data/author_array_test', author_array_test)\n",
    "np.save('test_data/paper_array_test', paper_array_test)\n",
    "np.save('test_data/edgelist_writes_test', edgelist_writes_test)\n",
    "np.save('test_data/edgelist_cites_test', edgelist_cites_test)\n",
    "np.save('test_data/edgelist_affiliations_test', edgelist_affiliations_test)\n",
    "np.save('test_data/feats_array_test', feats_array_test)\n",
    "np.save('test_data/paper_label_test', paper_label_test)"
   ],
   "outputs": [],
   "metadata": {}
  },
  {
   "cell_type": "markdown",
   "source": [
    "Now, we have a smaller part of MAG-dataset that should be much easier to train with, before attempting anything with the dataset as a whole. "
   ],
   "metadata": {}
  }
 ]
}