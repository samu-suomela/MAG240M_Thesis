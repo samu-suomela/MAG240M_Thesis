{
 "metadata": {
  "language_info": {
   "codemirror_mode": {
    "name": "ipython",
    "version": 3
   },
   "file_extension": ".py",
   "mimetype": "text/x-python",
   "name": "python",
   "nbconvert_exporter": "python",
   "pygments_lexer": "ipython3",
   "version": "3.7.6"
  },
  "orig_nbformat": 4,
  "kernelspec": {
   "name": "python3",
   "display_name": "Python 3.7.6 64-bit ('base': conda)"
  },
  "interpreter": {
   "hash": "dca0ade3e726a953b501b15e8e990130d2b7799f14cfd9f4271676035ebe5511"
  }
 },
 "nbformat": 4,
 "nbformat_minor": 2,
 "cells": [
  {
   "cell_type": "code",
   "execution_count": 165,
   "metadata": {},
   "outputs": [],
   "source": [
    "import networkx as nx\n",
    "import numpy as np\n",
    "import pandas as pd"
   ]
  },
  {
   "cell_type": "code",
   "execution_count": 178,
   "metadata": {},
   "outputs": [],
   "source": [
    "paper_to_paper = np.load(\"test_data_label_propagation/edgelist_cites_test_label_propagation.npy\")\n",
    "papers = np.load(\"test_data_label_propagation/paper_array_test_label_propagation.npy\")\n",
    "labels = np.load(\"test_data_label_propagation/paper_label_test_label_propagation.npy\")\n",
    "\n",
    "edgelist_reindexed = []\n",
    "papers_reindexed = []\n",
    "mapping = {}\n",
    "for i in range(len(papers)):\n",
    "    mapping[papers[i]] = i\n",
    "    papers_reindexed.append(i)\n",
    "\n",
    "for i in range(len(paper_to_paper.T)):\n",
    "    edge = paper_to_paper[:,i]\n",
    "    edgelist_reindexed.append([mapping[edge[0]],mapping[edge[1]]])\n",
    "\n",
    "cites = np.array(edgelist_reindexed).T\n",
    "papers = papers_reindexed"
   ]
  },
  {
   "cell_type": "code",
   "execution_count": 179,
   "metadata": {},
   "outputs": [
    {
     "output_type": "execute_result",
     "data": {
      "text/plain": [
       "(array([  1.,  17.,  23.,  24.,  97., 139.]), array([4, 3, 6, 1, 1, 1]))"
      ]
     },
     "metadata": {},
     "execution_count": 179
    }
   ],
   "source": [
    "np.unique(labels[~np.isnan(labels)],return_counts = True)"
   ]
  },
  {
   "cell_type": "code",
   "execution_count": 168,
   "metadata": {
    "tags": []
   },
   "outputs": [
    {
     "output_type": "stream",
     "name": "stdout",
     "text": [
      "11530\n"
     ]
    }
   ],
   "source": [
    "label_dict = {}\n",
    "for i in range(len(papers)):\n",
    "    label_dict[papers[i]] = labels[i]\n",
    "\n",
    "G = nx.Graph()\n",
    "for i in range(len(papers)):\n",
    "    G.add_node(papers[i])\n",
    "nx.set_node_attributes(G,label_dict,name=\"label\")\n",
    "\n",
    "edgelist = []\n",
    "for edge in cites.T:\n",
    "    edgelist.append((edge[0],edge[1]))\n",
    "G.add_edges_from(edgelist)\n",
    "print(len(G))\n",
    "\n",
    "#print(len(G))\n",
    "\n",
    "\n",
    "#print(G.number_of_edges())\n",
    "#print(G.number_of_nodes())"
   ]
  },
  {
   "cell_type": "code",
   "execution_count": 169,
   "metadata": {},
   "outputs": [
    {
     "output_type": "execute_result",
     "data": {
      "text/plain": [
       "11516"
      ]
     },
     "metadata": {},
     "execution_count": 169
    }
   ],
   "source": [
    "len(max(nx.connected_components(G), key=len))"
   ]
  },
  {
   "cell_type": "code",
   "execution_count": 170,
   "metadata": {},
   "outputs": [
    {
     "output_type": "execute_result",
     "data": {
      "text/plain": [
       "11530"
      ]
     },
     "metadata": {},
     "execution_count": 170
    }
   ],
   "source": [
    "len(G)"
   ]
  },
  {
   "cell_type": "code",
   "execution_count": 171,
   "metadata": {},
   "outputs": [],
   "source": [
    "#communities = nx.algorithms.community.label_propagation.asyn_lpa_communities(G)\n"
   ]
  },
  {
   "cell_type": "code",
   "execution_count": 172,
   "metadata": {
    "tags": []
   },
   "outputs": [],
   "source": [
    "#communities_list = list(communities)\n",
    "#print(len(communities_list))"
   ]
  },
  {
   "cell_type": "code",
   "execution_count": 173,
   "metadata": {
    "tags": []
   },
   "outputs": [],
   "source": [
    "#required_number_of_labels = len(max(nx.connected_components(G), key=len))\n",
    "attrs_dict = nx.get_node_attributes(G,\"label\")\n",
    "labels_propagated = labels\n",
    "#while True:\n",
    "for i in range(5):\n",
    "    for node in G.nodes:\n",
    "        neighbor_labels = {}\n",
    "        neighbors = list(G.neighbors(node))\n",
    "        for i in neighbors:\n",
    "            if not np.isnan(attrs_dict[i]):\n",
    "                if attrs_dict[i] in neighbor_labels:\n",
    "                    neighbor_labels[attrs_dict[i]] = neighbor_labels[attrs_dict[i]] + 1\n",
    "                else:\n",
    "                    neighbor_labels[attrs_dict[i]] = 1\n",
    "            # if dict contains a value\n",
    "            if neighbor_labels:\n",
    "                prop_label = np.random.choice([key for key in neighbor_labels.keys() \n",
    "                                                if neighbor_labels[key]==max(neighbor_labels.values())])\n",
    "                G.nodes[node][\"label\"] = prop_label\n",
    "                labels_propagated[node] = prop_label\n",
    "                attrs_dict[node] = prop_label\n",
    "    #if required_number_of_labels == sum(~np.isnan(labels_propagated)):\n",
    "    #    break"
   ]
  },
  {
   "cell_type": "code",
   "execution_count": 174,
   "metadata": {},
   "outputs": [
    {
     "output_type": "execute_result",
     "data": {
      "text/plain": [
       "11516"
      ]
     },
     "metadata": {},
     "execution_count": 174
    }
   ],
   "source": [
    "sum(~np.isnan(labels_propagated))"
   ]
  },
  {
   "cell_type": "code",
   "execution_count": 175,
   "metadata": {
    "tags": []
   },
   "outputs": [
    {
     "output_type": "execute_result",
     "data": {
      "text/plain": [
       "11516"
      ]
     },
     "metadata": {},
     "execution_count": 175
    }
   ],
   "source": [
    "label_number = []\n",
    "for i in labels_propagated:\n",
    "    if not np.isnan(i):\n",
    "        label_number.append(i)\n",
    "len(label_number)"
   ]
  },
  {
   "cell_type": "code",
   "execution_count": 176,
   "metadata": {},
   "outputs": [
    {
     "output_type": "execute_result",
     "data": {
      "text/plain": [
       "(array([  1.,  17.,  23., 139.,  nan,  nan,  nan,  nan,  nan,  nan,  nan,\n",
       "         nan,  nan,  nan,  nan,  nan,  nan,  nan]),\n",
       " array([3934,  145, 7388,   49,    1,    1,    1,    1,    1,    1,    1,\n",
       "           1,    1,    1,    1,    1,    1,    1]))"
      ]
     },
     "metadata": {},
     "execution_count": 176
    }
   ],
   "source": [
    "(np.unique(labels_propagated, return_counts = True))"
   ]
  },
  {
   "cell_type": "code",
   "execution_count": null,
   "metadata": {},
   "outputs": [],
   "source": []
  }
 ]
}