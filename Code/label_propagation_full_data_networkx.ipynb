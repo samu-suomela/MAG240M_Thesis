{
 "metadata": {
  "language_info": {
   "codemirror_mode": {
    "name": "ipython",
    "version": 3
   },
   "file_extension": ".py",
   "mimetype": "text/x-python",
   "name": "python",
   "nbconvert_exporter": "python",
   "pygments_lexer": "ipython3",
   "version": "3.7.6"
  },
  "orig_nbformat": 4,
  "kernelspec": {
   "name": "python3",
   "display_name": "Python 3.7.6 64-bit ('base': conda)"
  },
  "interpreter": {
   "hash": "dca0ade3e726a953b501b15e8e990130d2b7799f14cfd9f4271676035ebe5511"
  }
 },
 "nbformat": 4,
 "nbformat_minor": 2,
 "cells": [
  {
   "cell_type": "code",
   "execution_count": null,
   "source": [
    "import networkx as nx\r\n",
    "import numpy as np\r\n",
    "import pandas as pd\r\n",
    "from ogb.lsc import MAG240MDataset\r\n",
    "\r\n",
    "dataset = MAG240MDataset(root = \"/wrk/users/sjsuomel/data/\")\r\n",
    "paper_to_paper = dataset.edge_index('paper', 'paper')\r\n",
    "labels = dataset.paper_label\r\n",
    "\r\n",
    "label_dict = {}\r\n",
    "for i in range(len(labels)):\r\n",
    "    label_dict[i] = labels[i]\r\n",
    "\r\n",
    "G = nx.Graph()\r\n",
    "G.add_edges_from(paper_to_paper.T)\r\n",
    "nx.set_node_attributes(G,label_dict,name=\"label\")\r\n",
    "\r\n",
    "loop_count = 0\r\n",
    "\r\n",
    "while True:\r\n",
    "    loop_count += 1 # safety valve in case we never reach convergence\r\n",
    "    converged = True\r\n",
    "    for node in G.nodes:\r\n",
    "        neighbor_labels = {}\r\n",
    "        neighbors = list(G.neighbors(node))\r\n",
    "        for i in neighbors:\r\n",
    "            if not np.isnan(label_dict[i]) and not label_dict[i] == -1: # we don't want to propagated nan-values or -1-values\r\n",
    "                if label_dict[i] in neighbor_labels:\r\n",
    "                    neighbor_labels[label_dict[i]] = neighbor_labels[label_dict[i]] + 1\r\n",
    "                else:\r\n",
    "                    neighbor_labels[label_dict[i]] = 1\r\n",
    "        if neighbor_labels:  # if dict contains a value\r\n",
    "            prop_label = np.random.choice([key for key in neighbor_labels.keys() \r\n",
    "                                            if neighbor_labels[key]==max(neighbor_labels.values())]) # Select most common label at random\r\n",
    "            if not labels[node] == prop_label: # if propagated label is the same as original, we don't need to do anything\r\n",
    "                G.nodes[node][\"label\"] = prop_label\r\n",
    "                labels[node] = prop_label\r\n",
    "                label_dict[node] = prop_label\r\n",
    "                converged = False # we never reach this point if labels are not updated\r\n",
    "\r\n",
    "    if converged or loop_count == 50:\r\n",
    "        break\r\n",
    "\r\n",
    "np.save(\"/wrk/users/sjsuomel/results/label_propagation_results\", labels) # save predicted labels for evaluation\r\n"
   ],
   "outputs": [],
   "metadata": {}
  }
 ]
}